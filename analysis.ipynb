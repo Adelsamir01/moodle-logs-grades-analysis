{
 "cells": [
  {
   "cell_type": "code",
   "execution_count": 176,
   "metadata": {
    "scrolled": true
   },
   "outputs": [
    {
     "data": {
      "text/html": [
       "<script>\n",
       "code_show=true; \n",
       "function code_toggle() {\n",
       " if (code_show){\n",
       " $('div.input').hide();\n",
       " } else {\n",
       " $('div.input').show();\n",
       " }\n",
       " code_show = !code_show\n",
       "} \n",
       "$( document ).ready(code_toggle);\n",
       "</script>\n",
       "<form action=\"javascript:code_toggle()\"><input type=\"submit\" value=\"Click here to toggle on/off the raw code.\"></form>"
      ],
      "text/plain": [
       "<IPython.core.display.HTML object>"
      ]
     },
     "execution_count": 176,
     "metadata": {},
     "output_type": "execute_result"
    }
   ],
   "source": [
    "from IPython.display import HTML\n",
    "\n",
    "HTML('''<script>\n",
    "code_show=true; \n",
    "function code_toggle() {\n",
    " if (code_show){\n",
    " $('div.input').hide();\n",
    " } else {\n",
    " $('div.input').show();\n",
    " }\n",
    " code_show = !code_show\n",
    "} \n",
    "$( document ).ready(code_toggle);\n",
    "</script>\n",
    "<form action=\"javascript:code_toggle()\"><input type=\"submit\" value=\"Click here to toggle on/off the raw code.\"></form>''')"
   ]
  },
  {
   "cell_type": "code",
   "execution_count": 2,
   "metadata": {},
   "outputs": [],
   "source": [
    "# importing liberaries\n",
    "\n",
    "import pandas as pd\n",
    "import numpy as np\n",
    "import matplotlib.pyplot as plt"
   ]
  },
  {
   "cell_type": "code",
   "execution_count": 22,
   "metadata": {},
   "outputs": [],
   "source": [
    "# importing the datasets\n",
    "moodle = pd.read_excel('moodle_logs_dataset.xlsx', sheetname='logs_CCCH9051_1A_2018_20201027-')\n",
    "survey = pd.read_excel('survey_dataset.xlsx', sheetname='Survey_Performance_data')"
   ]
  },
  {
   "cell_type": "markdown",
   "metadata": {},
   "source": [
    "### Assessing the Data"
   ]
  },
  {
   "cell_type": "code",
   "execution_count": 177,
   "metadata": {},
   "outputs": [
    {
     "data": {
      "text/html": [
       "<div>\n",
       "<style scoped>\n",
       "    .dataframe tbody tr th:only-of-type {\n",
       "        vertical-align: middle;\n",
       "    }\n",
       "\n",
       "    .dataframe tbody tr th {\n",
       "        vertical-align: top;\n",
       "    }\n",
       "\n",
       "    .dataframe thead th {\n",
       "        text-align: right;\n",
       "    }\n",
       "</style>\n",
       "<table border=\"1\" class=\"dataframe\">\n",
       "  <thead>\n",
       "    <tr style=\"text-align: right;\">\n",
       "      <th></th>\n",
       "      <th>ID</th>\n",
       "      <th>Full name</th>\n",
       "      <th>Username</th>\n",
       "      <th>Q05_Gender</th>\n",
       "      <th>Q01_LO-&gt;Demonstrate a good understanding of cultural heritages, their values and significance in history and in todayâ€™s society.</th>\n",
       "      <th>Q01_LO-&gt;Describe and explain the importance of preserving cultural heritage and strategies and methods applied worldwide</th>\n",
       "      <th>Q01_LO-&gt;Apply digital technologies to promoting local and Chinese cultural heritage to a global audience.</th>\n",
       "      <th>Q01_LO-&gt;Apply principles and ethics of information to cultural heritage conservation and preservation.</th>\n",
       "      <th>Q01_LO-&gt;Design and create digital services for organizing and accessing heritage information from a user-centered perspective.</th>\n",
       "      <th>Q02_Lecture</th>\n",
       "      <th>...</th>\n",
       "      <th>Q00_Satisfaction</th>\n",
       "      <th>Q02_Spherical photo</th>\n",
       "      <th>Q00_Best experience (open)</th>\n",
       "      <th>Q00_Experience to improve (Open)</th>\n",
       "      <th>Q00_Enough support</th>\n",
       "      <th>Q00_More support (Open)</th>\n",
       "      <th>Q00_Future use</th>\n",
       "      <th>Q00_Additional share (Open)</th>\n",
       "      <th>Grade</th>\n",
       "      <th>Score</th>\n",
       "    </tr>\n",
       "  </thead>\n",
       "  <tbody>\n",
       "    <tr>\n",
       "      <th>0</th>\n",
       "      <td>S001</td>\n",
       "      <td>Magow Adwithya</td>\n",
       "      <td>adwithya</td>\n",
       "      <td>2</td>\n",
       "      <td>4</td>\n",
       "      <td>4</td>\n",
       "      <td>4</td>\n",
       "      <td>4</td>\n",
       "      <td>4</td>\n",
       "      <td>I have learnt about the different types of cul...</td>\n",
       "      <td>...</td>\n",
       "      <td>4.0</td>\n",
       "      <td>0.0</td>\n",
       "      <td>The best part of making a VR story would be ac...</td>\n",
       "      <td>Taking of the pictures takes a lot of time and...</td>\n",
       "      <td>1.0</td>\n",
       "      <td>0</td>\n",
       "      <td>1 : Highly in Favor</td>\n",
       "      <td>0</td>\n",
       "      <td>A</td>\n",
       "      <td>89.237500</td>\n",
       "    </tr>\n",
       "    <tr>\n",
       "      <th>1</th>\n",
       "      <td>S002</td>\n",
       "      <td>Tam Yuen Ki</td>\n",
       "      <td>amytam</td>\n",
       "      <td>1</td>\n",
       "      <td>5</td>\n",
       "      <td>4</td>\n",
       "      <td>5</td>\n",
       "      <td>4</td>\n",
       "      <td>4</td>\n",
       "      <td>I learnt the values, significance, preservatio...</td>\n",
       "      <td>...</td>\n",
       "      <td>4.0</td>\n",
       "      <td>1.0</td>\n",
       "      <td>The best part is taking some 360 degree photos...</td>\n",
       "      <td>The skill of taking a 360 degree photo as the ...</td>\n",
       "      <td>1.0</td>\n",
       "      <td>0</td>\n",
       "      <td>2 : Somewhat in Favor</td>\n",
       "      <td>0</td>\n",
       "      <td>A</td>\n",
       "      <td>89.129167</td>\n",
       "    </tr>\n",
       "    <tr>\n",
       "      <th>2</th>\n",
       "      <td>S003</td>\n",
       "      <td>Ng Si Ki Annette</td>\n",
       "      <td>annette1</td>\n",
       "      <td>1</td>\n",
       "      <td>5</td>\n",
       "      <td>5</td>\n",
       "      <td>4</td>\n",
       "      <td>5</td>\n",
       "      <td>4</td>\n",
       "      <td>The definitions of different Dublin core. The ...</td>\n",
       "      <td>...</td>\n",
       "      <td>4.0</td>\n",
       "      <td>1.0</td>\n",
       "      <td>I get to really see the production of VR. It w...</td>\n",
       "      <td>There can be display of good work so I can kno...</td>\n",
       "      <td>1.0</td>\n",
       "      <td>0</td>\n",
       "      <td>2 : Somewhat in Favor</td>\n",
       "      <td>I think it is fun to encourage us to really vi...</td>\n",
       "      <td>A</td>\n",
       "      <td>89.593056</td>\n",
       "    </tr>\n",
       "    <tr>\n",
       "      <th>3</th>\n",
       "      <td>S004</td>\n",
       "      <td>Le Bert Ngoc</td>\n",
       "      <td>bnl007</td>\n",
       "      <td>2</td>\n",
       "      <td>5</td>\n",
       "      <td>4</td>\n",
       "      <td>5</td>\n",
       "      <td>5</td>\n",
       "      <td>4</td>\n",
       "      <td>I learned what cultural heritage is and how to...</td>\n",
       "      <td>...</td>\n",
       "      <td>5.0</td>\n",
       "      <td>1.0</td>\n",
       "      <td>Seeing how the VR story looks like at the end....</td>\n",
       "      <td>The website use to make the VR story sometime ...</td>\n",
       "      <td>1.0</td>\n",
       "      <td>none, Jeremy did a great job providing materia...</td>\n",
       "      <td>2 : Somewhat in Favor</td>\n",
       "      <td>none</td>\n",
       "      <td>A</td>\n",
       "      <td>91.962500</td>\n",
       "    </tr>\n",
       "    <tr>\n",
       "      <th>4</th>\n",
       "      <td>S005</td>\n",
       "      <td>Ng Cho Sum</td>\n",
       "      <td>chosum21</td>\n",
       "      <td>1</td>\n",
       "      <td>4</td>\n",
       "      <td>3</td>\n",
       "      <td>4</td>\n",
       "      <td>4</td>\n",
       "      <td>4</td>\n",
       "      <td>I have learnt different values of cultural her...</td>\n",
       "      <td>...</td>\n",
       "      <td>4.0</td>\n",
       "      <td>1.0</td>\n",
       "      <td>In the past experiences of visiting museums, I...</td>\n",
       "      <td>When I was using stories360 to make my VR Stor...</td>\n",
       "      <td>1.0</td>\n",
       "      <td>0</td>\n",
       "      <td>1 : Highly in Favor</td>\n",
       "      <td>0</td>\n",
       "      <td>A-</td>\n",
       "      <td>84.765278</td>\n",
       "    </tr>\n",
       "  </tbody>\n",
       "</table>\n",
       "<p>5 rows × 28 columns</p>\n",
       "</div>"
      ],
      "text/plain": [
       "     ID         Full name  Username  Q05_Gender  \\\n",
       "0  S001    Magow Adwithya  adwithya           2   \n",
       "1  S002       Tam Yuen Ki    amytam           1   \n",
       "2  S003  Ng Si Ki Annette  annette1           1   \n",
       "3  S004      Le Bert Ngoc    bnl007           2   \n",
       "4  S005        Ng Cho Sum  chosum21           1   \n",
       "\n",
       "   Q01_LO->Demonstrate a good understanding of cultural heritages, their values and significance in history and in todayâ€™s society.  \\\n",
       "0                                                  4                                                                                    \n",
       "1                                                  5                                                                                    \n",
       "2                                                  5                                                                                    \n",
       "3                                                  5                                                                                    \n",
       "4                                                  4                                                                                    \n",
       "\n",
       "   Q01_LO->Describe and explain the importance of preserving cultural heritage and strategies and methods applied worldwide  \\\n",
       "0                                                  4                                                                          \n",
       "1                                                  4                                                                          \n",
       "2                                                  5                                                                          \n",
       "3                                                  4                                                                          \n",
       "4                                                  3                                                                          \n",
       "\n",
       "   Q01_LO->Apply digital technologies to promoting local and Chinese cultural heritage to a global audience.  \\\n",
       "0                                                  4                                                           \n",
       "1                                                  5                                                           \n",
       "2                                                  4                                                           \n",
       "3                                                  5                                                           \n",
       "4                                                  4                                                           \n",
       "\n",
       "   Q01_LO->Apply principles and ethics of information to cultural heritage conservation and preservation.  \\\n",
       "0                                                  4                                                        \n",
       "1                                                  4                                                        \n",
       "2                                                  5                                                        \n",
       "3                                                  5                                                        \n",
       "4                                                  4                                                        \n",
       "\n",
       "   Q01_LO->Design and create digital services for organizing and accessing heritage information from a user-centered perspective.  \\\n",
       "0                                                  4                                                                                \n",
       "1                                                  4                                                                                \n",
       "2                                                  4                                                                                \n",
       "3                                                  4                                                                                \n",
       "4                                                  4                                                                                \n",
       "\n",
       "                                         Q02_Lecture    ...      \\\n",
       "0  I have learnt about the different types of cul...    ...       \n",
       "1  I learnt the values, significance, preservatio...    ...       \n",
       "2  The definitions of different Dublin core. The ...    ...       \n",
       "3  I learned what cultural heritage is and how to...    ...       \n",
       "4  I have learnt different values of cultural her...    ...       \n",
       "\n",
       "  Q00_Satisfaction Q02_Spherical photo  \\\n",
       "0              4.0                 0.0   \n",
       "1              4.0                 1.0   \n",
       "2              4.0                 1.0   \n",
       "3              5.0                 1.0   \n",
       "4              4.0                 1.0   \n",
       "\n",
       "                          Q00_Best experience (open)  \\\n",
       "0  The best part of making a VR story would be ac...   \n",
       "1  The best part is taking some 360 degree photos...   \n",
       "2  I get to really see the production of VR. It w...   \n",
       "3  Seeing how the VR story looks like at the end....   \n",
       "4  In the past experiences of visiting museums, I...   \n",
       "\n",
       "                    Q00_Experience to improve (Open)  Q00_Enough support  \\\n",
       "0  Taking of the pictures takes a lot of time and...                 1.0   \n",
       "1  The skill of taking a 360 degree photo as the ...                 1.0   \n",
       "2  There can be display of good work so I can kno...                 1.0   \n",
       "3  The website use to make the VR story sometime ...                 1.0   \n",
       "4  When I was using stories360 to make my VR Stor...                 1.0   \n",
       "\n",
       "                             Q00_More support (Open)         Q00_Future use  \\\n",
       "0                                                  0    1 : Highly in Favor   \n",
       "1                                                  0  2 : Somewhat in Favor   \n",
       "2                                                  0  2 : Somewhat in Favor   \n",
       "3  none, Jeremy did a great job providing materia...  2 : Somewhat in Favor   \n",
       "4                                                  0    1 : Highly in Favor   \n",
       "\n",
       "                         Q00_Additional share (Open)  Grade      Score  \n",
       "0                                                  0      A  89.237500  \n",
       "1                                                  0      A  89.129167  \n",
       "2  I think it is fun to encourage us to really vi...      A  89.593056  \n",
       "3                                               none      A  91.962500  \n",
       "4                                                  0     A-  84.765278  \n",
       "\n",
       "[5 rows x 28 columns]"
      ]
     },
     "execution_count": 177,
     "metadata": {},
     "output_type": "execute_result"
    }
   ],
   "source": [
    "survey.head()"
   ]
  },
  {
   "cell_type": "code",
   "execution_count": 178,
   "metadata": {},
   "outputs": [
    {
     "data": {
      "text/html": [
       "<div>\n",
       "<style scoped>\n",
       "    .dataframe tbody tr th:only-of-type {\n",
       "        vertical-align: middle;\n",
       "    }\n",
       "\n",
       "    .dataframe tbody tr th {\n",
       "        vertical-align: top;\n",
       "    }\n",
       "\n",
       "    .dataframe thead th {\n",
       "        text-align: right;\n",
       "    }\n",
       "</style>\n",
       "<table border=\"1\" class=\"dataframe\">\n",
       "  <thead>\n",
       "    <tr style=\"text-align: right;\">\n",
       "      <th></th>\n",
       "      <th>Time</th>\n",
       "      <th>User full name</th>\n",
       "      <th>Affected user</th>\n",
       "      <th>Event context</th>\n",
       "      <th>Component</th>\n",
       "      <th>Event name</th>\n",
       "      <th>Description</th>\n",
       "      <th>Origin</th>\n",
       "      <th>IP address</th>\n",
       "      <th>ID</th>\n",
       "      <th>Counts</th>\n",
       "      <th>regularity</th>\n",
       "    </tr>\n",
       "  </thead>\n",
       "  <tbody>\n",
       "    <tr>\n",
       "      <th>19</th>\n",
       "      <td>7/12/19, 11:52</td>\n",
       "      <td>Wan Hei Lok</td>\n",
       "      <td>-</td>\n",
       "      <td>Course: CCCH9051 Digitizing Cultural Heritage ...</td>\n",
       "      <td>System</td>\n",
       "      <td>Course viewed</td>\n",
       "      <td>The user with id '138127' viewed the course wi...</td>\n",
       "      <td>web</td>\n",
       "      <td>221.124.56.245</td>\n",
       "      <td>S047</td>\n",
       "      <td>596</td>\n",
       "      <td>596</td>\n",
       "    </tr>\n",
       "    <tr>\n",
       "      <th>20</th>\n",
       "      <td>4/12/19, 23:34</td>\n",
       "      <td>Gupta Abheeshek</td>\n",
       "      <td>-</td>\n",
       "      <td>Course: CCCH9051 Digitizing Cultural Heritage ...</td>\n",
       "      <td>System</td>\n",
       "      <td>Course viewed</td>\n",
       "      <td>The user with id '177686' viewed the course wi...</td>\n",
       "      <td>web</td>\n",
       "      <td>182.68.207.64</td>\n",
       "      <td>S089</td>\n",
       "      <td>792</td>\n",
       "      <td>792</td>\n",
       "    </tr>\n",
       "    <tr>\n",
       "      <th>23</th>\n",
       "      <td>1/12/19, 23:16</td>\n",
       "      <td>Cheung Man Chung</td>\n",
       "      <td>-</td>\n",
       "      <td>Course: CCCH9051 Digitizing Cultural Heritage ...</td>\n",
       "      <td>System</td>\n",
       "      <td>Course viewed</td>\n",
       "      <td>The user with id '173343' viewed the course wi...</td>\n",
       "      <td>web</td>\n",
       "      <td>119.247.243.166</td>\n",
       "      <td>S081</td>\n",
       "      <td>614</td>\n",
       "      <td>614</td>\n",
       "    </tr>\n",
       "    <tr>\n",
       "      <th>40</th>\n",
       "      <td>25/11/19, 23:48</td>\n",
       "      <td>Wong Hiu Kwan</td>\n",
       "      <td>-</td>\n",
       "      <td>File: Course outline (updated: Oct 12 -- minor...</td>\n",
       "      <td>File</td>\n",
       "      <td>Course module viewed</td>\n",
       "      <td>The user with id '172551' viewed the 'resource...</td>\n",
       "      <td>web</td>\n",
       "      <td>125.59.35.56</td>\n",
       "      <td>S043</td>\n",
       "      <td>621</td>\n",
       "      <td>621</td>\n",
       "    </tr>\n",
       "    <tr>\n",
       "      <th>41</th>\n",
       "      <td>25/11/19, 23:48</td>\n",
       "      <td>Wong Hiu Kwan</td>\n",
       "      <td>-</td>\n",
       "      <td>Course: CCCH9051 Digitizing Cultural Heritage ...</td>\n",
       "      <td>System</td>\n",
       "      <td>Course viewed</td>\n",
       "      <td>The user with id '172551' viewed the course wi...</td>\n",
       "      <td>web</td>\n",
       "      <td>125.59.35.56</td>\n",
       "      <td>S043</td>\n",
       "      <td>621</td>\n",
       "      <td>621</td>\n",
       "    </tr>\n",
       "  </tbody>\n",
       "</table>\n",
       "</div>"
      ],
      "text/plain": [
       "               Time    User full name Affected user  \\\n",
       "19   7/12/19, 11:52       Wan Hei Lok             -   \n",
       "20   4/12/19, 23:34   Gupta Abheeshek             -   \n",
       "23   1/12/19, 23:16  Cheung Man Chung             -   \n",
       "40  25/11/19, 23:48     Wong Hiu Kwan             -   \n",
       "41  25/11/19, 23:48     Wong Hiu Kwan             -   \n",
       "\n",
       "                                        Event context Component  \\\n",
       "19  Course: CCCH9051 Digitizing Cultural Heritage ...    System   \n",
       "20  Course: CCCH9051 Digitizing Cultural Heritage ...    System   \n",
       "23  Course: CCCH9051 Digitizing Cultural Heritage ...    System   \n",
       "40  File: Course outline (updated: Oct 12 -- minor...      File   \n",
       "41  Course: CCCH9051 Digitizing Cultural Heritage ...    System   \n",
       "\n",
       "              Event name                                        Description  \\\n",
       "19         Course viewed  The user with id '138127' viewed the course wi...   \n",
       "20         Course viewed  The user with id '177686' viewed the course wi...   \n",
       "23         Course viewed  The user with id '173343' viewed the course wi...   \n",
       "40  Course module viewed  The user with id '172551' viewed the 'resource...   \n",
       "41         Course viewed  The user with id '172551' viewed the course wi...   \n",
       "\n",
       "   Origin       IP address    ID  Counts  regularity  \n",
       "19    web   221.124.56.245  S047     596         596  \n",
       "20    web    182.68.207.64  S089     792         792  \n",
       "23    web  119.247.243.166  S081     614         614  \n",
       "40    web     125.59.35.56  S043     621         621  \n",
       "41    web     125.59.35.56  S043     621         621  "
      ]
     },
     "execution_count": 178,
     "metadata": {},
     "output_type": "execute_result"
    }
   ],
   "source": [
    "moodle.head()"
   ]
  },
  {
   "cell_type": "code",
   "execution_count": 25,
   "metadata": {},
   "outputs": [
    {
     "name": "stdout",
     "output_type": "stream",
     "text": [
      "<class 'pandas.core.frame.DataFrame'>\n",
      "RangeIndex: 79366 entries, 0 to 79365\n",
      "Data columns (total 10 columns):\n",
      "Time              79366 non-null object\n",
      "User full name    79366 non-null object\n",
      "Affected user     79366 non-null object\n",
      "Event context     79366 non-null object\n",
      "Component         79366 non-null object\n",
      "Event name        79366 non-null object\n",
      "Description       79366 non-null object\n",
      "Origin            79366 non-null object\n",
      "IP address        79366 non-null object\n",
      "ID                57790 non-null object\n",
      "dtypes: object(10)\n",
      "memory usage: 6.1+ MB\n"
     ]
    }
   ],
   "source": [
    "moodle.info()"
   ]
  },
  {
   "cell_type": "code",
   "execution_count": 179,
   "metadata": {},
   "outputs": [
    {
     "data": {
      "text/html": [
       "<div>\n",
       "<style scoped>\n",
       "    .dataframe tbody tr th:only-of-type {\n",
       "        vertical-align: middle;\n",
       "    }\n",
       "\n",
       "    .dataframe tbody tr th {\n",
       "        vertical-align: top;\n",
       "    }\n",
       "\n",
       "    .dataframe thead th {\n",
       "        text-align: right;\n",
       "    }\n",
       "</style>\n",
       "<table border=\"1\" class=\"dataframe\">\n",
       "  <thead>\n",
       "    <tr style=\"text-align: right;\">\n",
       "      <th></th>\n",
       "      <th>Q05_Gender</th>\n",
       "      <th>Q01_LO-&gt;Demonstrate a good understanding of cultural heritages, their values and significance in history and in todayâ€™s society.</th>\n",
       "      <th>Q01_LO-&gt;Describe and explain the importance of preserving cultural heritage and strategies and methods applied worldwide</th>\n",
       "      <th>Q01_LO-&gt;Apply digital technologies to promoting local and Chinese cultural heritage to a global audience.</th>\n",
       "      <th>Q01_LO-&gt;Apply principles and ethics of information to cultural heritage conservation and preservation.</th>\n",
       "      <th>Q01_LO-&gt;Design and create digital services for organizing and accessing heritage information from a user-centered perspective.</th>\n",
       "      <th>Q05_Video_usefulness-&gt;Learning activities (e.g. lectures, tutorials)</th>\n",
       "      <th>Q05_Video_usefulness-&gt;Learning tools used in the course (e.g. Omeka)</th>\n",
       "      <th>Q05_Video_usefulness-&gt;Assessment tasks (e.g. group project)</th>\n",
       "      <th>Q05_Video_usefulness-&gt;Overall</th>\n",
       "      <th>Q00_Satisfaction</th>\n",
       "      <th>Q02_Spherical photo</th>\n",
       "      <th>Q00_Enough support</th>\n",
       "      <th>Score</th>\n",
       "    </tr>\n",
       "  </thead>\n",
       "  <tbody>\n",
       "    <tr>\n",
       "      <th>count</th>\n",
       "      <td>97.000000</td>\n",
       "      <td>97.000000</td>\n",
       "      <td>97.000000</td>\n",
       "      <td>97.000000</td>\n",
       "      <td>97.000000</td>\n",
       "      <td>97.000000</td>\n",
       "      <td>97.000000</td>\n",
       "      <td>97.000000</td>\n",
       "      <td>97.000000</td>\n",
       "      <td>97.000000</td>\n",
       "      <td>88.000000</td>\n",
       "      <td>88.000000</td>\n",
       "      <td>88.0</td>\n",
       "      <td>97.000000</td>\n",
       "    </tr>\n",
       "    <tr>\n",
       "      <th>mean</th>\n",
       "      <td>1.474227</td>\n",
       "      <td>4.226804</td>\n",
       "      <td>4.144330</td>\n",
       "      <td>4.237113</td>\n",
       "      <td>3.948454</td>\n",
       "      <td>4.216495</td>\n",
       "      <td>4.247423</td>\n",
       "      <td>4.226804</td>\n",
       "      <td>4.082474</td>\n",
       "      <td>4.195876</td>\n",
       "      <td>4.102273</td>\n",
       "      <td>0.897727</td>\n",
       "      <td>1.0</td>\n",
       "      <td>85.443328</td>\n",
       "    </tr>\n",
       "    <tr>\n",
       "      <th>std</th>\n",
       "      <td>0.662897</td>\n",
       "      <td>0.714510</td>\n",
       "      <td>0.777143</td>\n",
       "      <td>0.826302</td>\n",
       "      <td>0.782239</td>\n",
       "      <td>0.739183</td>\n",
       "      <td>0.764184</td>\n",
       "      <td>0.756984</td>\n",
       "      <td>0.837532</td>\n",
       "      <td>0.686767</td>\n",
       "      <td>0.568114</td>\n",
       "      <td>0.304743</td>\n",
       "      <td>0.0</td>\n",
       "      <td>10.284298</td>\n",
       "    </tr>\n",
       "    <tr>\n",
       "      <th>min</th>\n",
       "      <td>1.000000</td>\n",
       "      <td>2.000000</td>\n",
       "      <td>1.000000</td>\n",
       "      <td>1.000000</td>\n",
       "      <td>2.000000</td>\n",
       "      <td>1.000000</td>\n",
       "      <td>1.000000</td>\n",
       "      <td>1.000000</td>\n",
       "      <td>1.000000</td>\n",
       "      <td>2.000000</td>\n",
       "      <td>2.000000</td>\n",
       "      <td>0.000000</td>\n",
       "      <td>1.0</td>\n",
       "      <td>48.088889</td>\n",
       "    </tr>\n",
       "    <tr>\n",
       "      <th>25%</th>\n",
       "      <td>1.000000</td>\n",
       "      <td>4.000000</td>\n",
       "      <td>4.000000</td>\n",
       "      <td>4.000000</td>\n",
       "      <td>4.000000</td>\n",
       "      <td>4.000000</td>\n",
       "      <td>4.000000</td>\n",
       "      <td>4.000000</td>\n",
       "      <td>4.000000</td>\n",
       "      <td>4.000000</td>\n",
       "      <td>4.000000</td>\n",
       "      <td>1.000000</td>\n",
       "      <td>1.0</td>\n",
       "      <td>82.826389</td>\n",
       "    </tr>\n",
       "    <tr>\n",
       "      <th>50%</th>\n",
       "      <td>1.000000</td>\n",
       "      <td>4.000000</td>\n",
       "      <td>4.000000</td>\n",
       "      <td>4.000000</td>\n",
       "      <td>4.000000</td>\n",
       "      <td>4.000000</td>\n",
       "      <td>4.000000</td>\n",
       "      <td>4.000000</td>\n",
       "      <td>4.000000</td>\n",
       "      <td>4.000000</td>\n",
       "      <td>4.000000</td>\n",
       "      <td>1.000000</td>\n",
       "      <td>1.0</td>\n",
       "      <td>87.312500</td>\n",
       "    </tr>\n",
       "    <tr>\n",
       "      <th>75%</th>\n",
       "      <td>2.000000</td>\n",
       "      <td>5.000000</td>\n",
       "      <td>5.000000</td>\n",
       "      <td>5.000000</td>\n",
       "      <td>4.000000</td>\n",
       "      <td>5.000000</td>\n",
       "      <td>5.000000</td>\n",
       "      <td>5.000000</td>\n",
       "      <td>5.000000</td>\n",
       "      <td>5.000000</td>\n",
       "      <td>4.000000</td>\n",
       "      <td>1.000000</td>\n",
       "      <td>1.0</td>\n",
       "      <td>91.962500</td>\n",
       "    </tr>\n",
       "    <tr>\n",
       "      <th>max</th>\n",
       "      <td>4.000000</td>\n",
       "      <td>5.000000</td>\n",
       "      <td>5.000000</td>\n",
       "      <td>5.000000</td>\n",
       "      <td>5.000000</td>\n",
       "      <td>5.000000</td>\n",
       "      <td>5.000000</td>\n",
       "      <td>5.000000</td>\n",
       "      <td>5.000000</td>\n",
       "      <td>5.000000</td>\n",
       "      <td>5.000000</td>\n",
       "      <td>1.000000</td>\n",
       "      <td>1.0</td>\n",
       "      <td>99.800000</td>\n",
       "    </tr>\n",
       "  </tbody>\n",
       "</table>\n",
       "</div>"
      ],
      "text/plain": [
       "       Q05_Gender  \\\n",
       "count   97.000000   \n",
       "mean     1.474227   \n",
       "std      0.662897   \n",
       "min      1.000000   \n",
       "25%      1.000000   \n",
       "50%      1.000000   \n",
       "75%      2.000000   \n",
       "max      4.000000   \n",
       "\n",
       "       Q01_LO->Demonstrate a good understanding of cultural heritages, their values and significance in history and in todayâ€™s society.  \\\n",
       "count                                          97.000000                                                                                    \n",
       "mean                                            4.226804                                                                                    \n",
       "std                                             0.714510                                                                                    \n",
       "min                                             2.000000                                                                                    \n",
       "25%                                             4.000000                                                                                    \n",
       "50%                                             4.000000                                                                                    \n",
       "75%                                             5.000000                                                                                    \n",
       "max                                             5.000000                                                                                    \n",
       "\n",
       "       Q01_LO->Describe and explain the importance of preserving cultural heritage and strategies and methods applied worldwide  \\\n",
       "count                                          97.000000                                                                          \n",
       "mean                                            4.144330                                                                          \n",
       "std                                             0.777143                                                                          \n",
       "min                                             1.000000                                                                          \n",
       "25%                                             4.000000                                                                          \n",
       "50%                                             4.000000                                                                          \n",
       "75%                                             5.000000                                                                          \n",
       "max                                             5.000000                                                                          \n",
       "\n",
       "       Q01_LO->Apply digital technologies to promoting local and Chinese cultural heritage to a global audience.  \\\n",
       "count                                          97.000000                                                           \n",
       "mean                                            4.237113                                                           \n",
       "std                                             0.826302                                                           \n",
       "min                                             1.000000                                                           \n",
       "25%                                             4.000000                                                           \n",
       "50%                                             4.000000                                                           \n",
       "75%                                             5.000000                                                           \n",
       "max                                             5.000000                                                           \n",
       "\n",
       "       Q01_LO->Apply principles and ethics of information to cultural heritage conservation and preservation.  \\\n",
       "count                                          97.000000                                                        \n",
       "mean                                            3.948454                                                        \n",
       "std                                             0.782239                                                        \n",
       "min                                             2.000000                                                        \n",
       "25%                                             4.000000                                                        \n",
       "50%                                             4.000000                                                        \n",
       "75%                                             4.000000                                                        \n",
       "max                                             5.000000                                                        \n",
       "\n",
       "       Q01_LO->Design and create digital services for organizing and accessing heritage information from a user-centered perspective.  \\\n",
       "count                                          97.000000                                                                                \n",
       "mean                                            4.216495                                                                                \n",
       "std                                             0.739183                                                                                \n",
       "min                                             1.000000                                                                                \n",
       "25%                                             4.000000                                                                                \n",
       "50%                                             4.000000                                                                                \n",
       "75%                                             5.000000                                                                                \n",
       "max                                             5.000000                                                                                \n",
       "\n",
       "       Q05_Video_usefulness->Learning activities (e.g. lectures, tutorials)  \\\n",
       "count                                          97.000000                      \n",
       "mean                                            4.247423                      \n",
       "std                                             0.764184                      \n",
       "min                                             1.000000                      \n",
       "25%                                             4.000000                      \n",
       "50%                                             4.000000                      \n",
       "75%                                             5.000000                      \n",
       "max                                             5.000000                      \n",
       "\n",
       "       Q05_Video_usefulness->Learning tools used in the course (e.g. Omeka)  \\\n",
       "count                                          97.000000                      \n",
       "mean                                            4.226804                      \n",
       "std                                             0.756984                      \n",
       "min                                             1.000000                      \n",
       "25%                                             4.000000                      \n",
       "50%                                             4.000000                      \n",
       "75%                                             5.000000                      \n",
       "max                                             5.000000                      \n",
       "\n",
       "       Q05_Video_usefulness->Assessment tasks (e.g. group project)  \\\n",
       "count                                          97.000000             \n",
       "mean                                            4.082474             \n",
       "std                                             0.837532             \n",
       "min                                             1.000000             \n",
       "25%                                             4.000000             \n",
       "50%                                             4.000000             \n",
       "75%                                             5.000000             \n",
       "max                                             5.000000             \n",
       "\n",
       "       Q05_Video_usefulness->Overall  Q00_Satisfaction  Q02_Spherical photo  \\\n",
       "count                      97.000000         88.000000            88.000000   \n",
       "mean                        4.195876          4.102273             0.897727   \n",
       "std                         0.686767          0.568114             0.304743   \n",
       "min                         2.000000          2.000000             0.000000   \n",
       "25%                         4.000000          4.000000             1.000000   \n",
       "50%                         4.000000          4.000000             1.000000   \n",
       "75%                         5.000000          4.000000             1.000000   \n",
       "max                         5.000000          5.000000             1.000000   \n",
       "\n",
       "       Q00_Enough support      Score  \n",
       "count                88.0  97.000000  \n",
       "mean                  1.0  85.443328  \n",
       "std                   0.0  10.284298  \n",
       "min                   1.0  48.088889  \n",
       "25%                   1.0  82.826389  \n",
       "50%                   1.0  87.312500  \n",
       "75%                   1.0  91.962500  \n",
       "max                   1.0  99.800000  "
      ]
     },
     "execution_count": 179,
     "metadata": {},
     "output_type": "execute_result"
    }
   ],
   "source": [
    "survey.describe()"
   ]
  },
  {
   "cell_type": "markdown",
   "metadata": {},
   "source": [
    "### Cleaning the data"
   ]
  },
  {
   "cell_type": "code",
   "execution_count": 44,
   "metadata": {},
   "outputs": [],
   "source": [
    "# dropping all rows that contain \"Ng Tzi Dong\" aka the teacher \n",
    "moodle = moodle[moodle[\"User full name\"] != \"Ng Tzi Dong\"]\n",
    "\n",
    "# removing teachers (a teacher has no ID in the ID column)\n",
    "moodle = moodle[moodle[\"ID\"].notna()]"
   ]
  },
  {
   "cell_type": "code",
   "execution_count": 180,
   "metadata": {},
   "outputs": [
    {
     "data": {
      "text/html": [
       "<div>\n",
       "<style scoped>\n",
       "    .dataframe tbody tr th:only-of-type {\n",
       "        vertical-align: middle;\n",
       "    }\n",
       "\n",
       "    .dataframe tbody tr th {\n",
       "        vertical-align: top;\n",
       "    }\n",
       "\n",
       "    .dataframe thead th {\n",
       "        text-align: right;\n",
       "    }\n",
       "</style>\n",
       "<table border=\"1\" class=\"dataframe\">\n",
       "  <thead>\n",
       "    <tr style=\"text-align: right;\">\n",
       "      <th></th>\n",
       "      <th>Time</th>\n",
       "      <th>User full name</th>\n",
       "      <th>Affected user</th>\n",
       "      <th>Event context</th>\n",
       "      <th>Component</th>\n",
       "      <th>Event name</th>\n",
       "      <th>Description</th>\n",
       "      <th>Origin</th>\n",
       "      <th>IP address</th>\n",
       "      <th>ID</th>\n",
       "      <th>Counts</th>\n",
       "      <th>regularity</th>\n",
       "    </tr>\n",
       "  </thead>\n",
       "  <tbody>\n",
       "    <tr>\n",
       "      <th>19</th>\n",
       "      <td>7/12/19, 11:52</td>\n",
       "      <td>Wan Hei Lok</td>\n",
       "      <td>-</td>\n",
       "      <td>Course: CCCH9051 Digitizing Cultural Heritage ...</td>\n",
       "      <td>System</td>\n",
       "      <td>Course viewed</td>\n",
       "      <td>The user with id '138127' viewed the course wi...</td>\n",
       "      <td>web</td>\n",
       "      <td>221.124.56.245</td>\n",
       "      <td>S047</td>\n",
       "      <td>596</td>\n",
       "      <td>596</td>\n",
       "    </tr>\n",
       "    <tr>\n",
       "      <th>20</th>\n",
       "      <td>4/12/19, 23:34</td>\n",
       "      <td>Gupta Abheeshek</td>\n",
       "      <td>-</td>\n",
       "      <td>Course: CCCH9051 Digitizing Cultural Heritage ...</td>\n",
       "      <td>System</td>\n",
       "      <td>Course viewed</td>\n",
       "      <td>The user with id '177686' viewed the course wi...</td>\n",
       "      <td>web</td>\n",
       "      <td>182.68.207.64</td>\n",
       "      <td>S089</td>\n",
       "      <td>792</td>\n",
       "      <td>792</td>\n",
       "    </tr>\n",
       "    <tr>\n",
       "      <th>23</th>\n",
       "      <td>1/12/19, 23:16</td>\n",
       "      <td>Cheung Man Chung</td>\n",
       "      <td>-</td>\n",
       "      <td>Course: CCCH9051 Digitizing Cultural Heritage ...</td>\n",
       "      <td>System</td>\n",
       "      <td>Course viewed</td>\n",
       "      <td>The user with id '173343' viewed the course wi...</td>\n",
       "      <td>web</td>\n",
       "      <td>119.247.243.166</td>\n",
       "      <td>S081</td>\n",
       "      <td>614</td>\n",
       "      <td>614</td>\n",
       "    </tr>\n",
       "    <tr>\n",
       "      <th>40</th>\n",
       "      <td>25/11/19, 23:48</td>\n",
       "      <td>Wong Hiu Kwan</td>\n",
       "      <td>-</td>\n",
       "      <td>File: Course outline (updated: Oct 12 -- minor...</td>\n",
       "      <td>File</td>\n",
       "      <td>Course module viewed</td>\n",
       "      <td>The user with id '172551' viewed the 'resource...</td>\n",
       "      <td>web</td>\n",
       "      <td>125.59.35.56</td>\n",
       "      <td>S043</td>\n",
       "      <td>621</td>\n",
       "      <td>621</td>\n",
       "    </tr>\n",
       "    <tr>\n",
       "      <th>41</th>\n",
       "      <td>25/11/19, 23:48</td>\n",
       "      <td>Wong Hiu Kwan</td>\n",
       "      <td>-</td>\n",
       "      <td>Course: CCCH9051 Digitizing Cultural Heritage ...</td>\n",
       "      <td>System</td>\n",
       "      <td>Course viewed</td>\n",
       "      <td>The user with id '172551' viewed the course wi...</td>\n",
       "      <td>web</td>\n",
       "      <td>125.59.35.56</td>\n",
       "      <td>S043</td>\n",
       "      <td>621</td>\n",
       "      <td>621</td>\n",
       "    </tr>\n",
       "  </tbody>\n",
       "</table>\n",
       "</div>"
      ],
      "text/plain": [
       "               Time    User full name Affected user  \\\n",
       "19   7/12/19, 11:52       Wan Hei Lok             -   \n",
       "20   4/12/19, 23:34   Gupta Abheeshek             -   \n",
       "23   1/12/19, 23:16  Cheung Man Chung             -   \n",
       "40  25/11/19, 23:48     Wong Hiu Kwan             -   \n",
       "41  25/11/19, 23:48     Wong Hiu Kwan             -   \n",
       "\n",
       "                                        Event context Component  \\\n",
       "19  Course: CCCH9051 Digitizing Cultural Heritage ...    System   \n",
       "20  Course: CCCH9051 Digitizing Cultural Heritage ...    System   \n",
       "23  Course: CCCH9051 Digitizing Cultural Heritage ...    System   \n",
       "40  File: Course outline (updated: Oct 12 -- minor...      File   \n",
       "41  Course: CCCH9051 Digitizing Cultural Heritage ...    System   \n",
       "\n",
       "              Event name                                        Description  \\\n",
       "19         Course viewed  The user with id '138127' viewed the course wi...   \n",
       "20         Course viewed  The user with id '177686' viewed the course wi...   \n",
       "23         Course viewed  The user with id '173343' viewed the course wi...   \n",
       "40  Course module viewed  The user with id '172551' viewed the 'resource...   \n",
       "41         Course viewed  The user with id '172551' viewed the course wi...   \n",
       "\n",
       "   Origin       IP address    ID  Counts  regularity  \n",
       "19    web   221.124.56.245  S047     596         596  \n",
       "20    web    182.68.207.64  S089     792         792  \n",
       "23    web  119.247.243.166  S081     614         614  \n",
       "40    web     125.59.35.56  S043     621         621  \n",
       "41    web     125.59.35.56  S043     621         621  "
      ]
     },
     "execution_count": 180,
     "metadata": {},
     "output_type": "execute_result"
    }
   ],
   "source": [
    "moodle.head()"
   ]
  },
  {
   "cell_type": "markdown",
   "metadata": {},
   "source": [
    "## Geting Global insights and Descriptive statistics "
   ]
  },
  {
   "cell_type": "code",
   "execution_count": 46,
   "metadata": {},
   "outputs": [
    {
     "data": {
      "text/plain": [
       "count    97.000000\n",
       "mean     85.443328\n",
       "std      10.284298\n",
       "min      48.088889\n",
       "25%      82.826389\n",
       "50%      87.312500\n",
       "75%      91.962500\n",
       "max      99.800000\n",
       "Name: Score, dtype: float64"
      ]
     },
     "execution_count": 46,
     "metadata": {},
     "output_type": "execute_result"
    }
   ],
   "source": [
    "# Maximum Score\n",
    "# Minimum Score\n",
    "# Average Score\n",
    "# Most  Score\n",
    "survey.Score.describe()"
   ]
  },
  {
   "cell_type": "code",
   "execution_count": 47,
   "metadata": {},
   "outputs": [
    {
     "data": {
      "image/png": "[encoded data removed]",
      "text/plain": [
       "<Figure size 432x288 with 1 Axes>"
      ]
     },
     "metadata": {
      "needs_background": "light"
     },
     "output_type": "display_data"
    }
   ],
   "source": [
    "# plotting the Scores of students as a histogram \n",
    "plt.hist(survey.Score, 97, facecolor='blue', alpha=0.5)\n",
    "plt.show()"
   ]
  },
  {
   "cell_type": "markdown",
   "metadata": {},
   "source": [
    "As you can notice the distribution of scores is left-skewed which shows higher scoring tendency for students."
   ]
  },
  {
   "cell_type": "markdown",
   "metadata": {},
   "source": [
    "### Clustering "
   ]
  },
  {
   "cell_type": "code",
   "execution_count": null,
   "metadata": {},
   "outputs": [],
   "source": [
    "# female gender clustering and insights generation\n",
    "\n",
    "females = survey[survey['Q05_Gender'] == 1]\n",
    "\n",
    "# Maximum Score\n",
    "# Minimum Score\n",
    "# Average Score\n",
    "# Most  Score\n",
    "females.Score.describe()"
   ]
  },
  {
   "cell_type": "code",
   "execution_count": 96,
   "metadata": {},
   "outputs": [
    {
     "data": {
      "image/png": "[encoded data removed]",
      "text/plain": [
       "<Figure size 432x288 with 1 Axes>"
      ]
     },
     "metadata": {
      "needs_background": "light"
     },
     "output_type": "display_data"
    }
   ],
   "source": [
    "# plotting the Scores of female students as a histogram \n",
    "plt.hist(females.Score, 97, facecolor='red', alpha=0.5)\n",
    "plt.show()"
   ]
  },
  {
   "cell_type": "code",
   "execution_count": 93,
   "metadata": {},
   "outputs": [
    {
     "data": {
      "text/plain": [
       "count    37.000000\n",
       "mean     83.273064\n",
       "std      13.533588\n",
       "min      48.088889\n",
       "25%      76.206944\n",
       "50%      85.223611\n",
       "75%      93.627778\n",
       "max      98.850000\n",
       "Name: Score, dtype: float64"
      ]
     },
     "execution_count": 93,
     "metadata": {},
     "output_type": "execute_result"
    }
   ],
   "source": [
    "# male gender clustering and insights generation\n",
    "\n",
    "males = survey[survey['Q05_Gender'] == 2]\n",
    "\n",
    "# Maximum Score\n",
    "# Minimum Score\n",
    "# Average Score\n",
    "# Most  Score\n",
    "males.Score.describe()"
   ]
  },
  {
   "cell_type": "code",
   "execution_count": 95,
   "metadata": {},
   "outputs": [
    {
     "data": {
      "image/png": "[encoded data removed]",
      "text/plain": [
       "<Figure size 432x288 with 1 Axes>"
      ]
     },
     "metadata": {
      "needs_background": "light"
     },
     "output_type": "display_data"
    }
   ],
   "source": [
    "# plotting the Scores of female students as a histogram \n",
    "plt.hist(females.Score, 97, facecolor='black', alpha=0.5)\n",
    "plt.show()"
   ]
  },
  {
   "cell_type": "markdown",
   "metadata": {},
   "source": [
    "After looking at the analysed dataset only for males and only for females, it's clearly shown that females have higher mean of scores (86.698674) than males (83.273064). However, the distribution for both are close."
   ]
  },
  {
   "cell_type": "markdown",
   "metadata": {},
   "source": [
    "### Matching two datasets\n",
    "How many times did each user log into the Moodle and how did that affect their grades? "
   ]
  },
  {
   "cell_type": "code",
   "execution_count": 59,
   "metadata": {},
   "outputs": [],
   "source": [
    "moodle['regularity'] = moodle.groupby(['ID'])['ID'].transform('count')"
   ]
  },
  {
   "cell_type": "code",
   "execution_count": 71,
   "metadata": {},
   "outputs": [],
   "source": [
    "regularity_df = moodle[['ID','regularity']].drop_duplicates().reset_index().sort_values(['ID'], ascending=True)"
   ]
  },
  {
   "cell_type": "code",
   "execution_count": 72,
   "metadata": {},
   "outputs": [],
   "source": [
    "grades_df = survey[['ID','Score','Grade']]"
   ]
  },
  {
   "cell_type": "markdown",
   "metadata": {},
   "source": [
    "### Matching Grades with Regularity "
   ]
  },
  {
   "cell_type": "code",
   "execution_count": 74,
   "metadata": {},
   "outputs": [],
   "source": [
    "# mergeing datasets into one main dataset \n",
    "reg_grades = pd.merge(regularity_df, grades_df, how='inner',on=['ID'])"
   ]
  },
  {
   "cell_type": "markdown",
   "metadata": {},
   "source": [
    "Now we plot the Scores Vs Regularity to see if there is a relation between both of them on x axis the Regularity to log in and on Y axis the score "
   ]
  },
  {
   "cell_type": "code",
   "execution_count": 84,
   "metadata": {},
   "outputs": [
    {
     "name": "stdout",
     "output_type": "stream",
     "text": [
      "best fit line:\n",
      "y = 68.09 + 0.03x\n"
     ]
    },
    {
     "data": {
      "text/plain": [
       "[<matplotlib.lines.Line2D at 0x162ab2cfcf8>]"
      ]
     },
     "execution_count": 84,
     "metadata": {},
     "output_type": "execute_result"
    },
    {
     "data": {
      "image/png": "[encoded data removed]",
      "text/plain": [
       "<Figure size 432x288 with 1 Axes>"
      ]
     },
     "metadata": {
      "needs_background": "light"
     },
     "output_type": "display_data"
    }
   ],
   "source": [
    "X = reg_grades.regularity\n",
    "Y = reg_grades.Score\n",
    "plt.plot(X, Y, 'o', color='red');\n",
    "\n",
    "def best_fit(X, Y):\n",
    "\n",
    "    xbar = sum(X)/len(X)\n",
    "    ybar = sum(Y)/len(Y)\n",
    "    n = len(X) # or len(Y)\n",
    "\n",
    "    numer = sum([xi*yi for xi,yi in zip(X, Y)]) - n * xbar * ybar\n",
    "    denum = sum([xi**2 for xi in X]) - n * xbar**2\n",
    "\n",
    "    b = numer / denum\n",
    "    a = ybar - b * xbar\n",
    "\n",
    "    print('best fit line:\\ny = {:.2f} + {:.2f}x'.format(a, b))\n",
    "\n",
    "    return a, b\n",
    "\n",
    "# solution\n",
    "a, b = best_fit(X, Y)\n",
    "\n",
    "\n",
    "# plot points and fit line\n",
    "import matplotlib.pyplot as plt\n",
    "plt.scatter(X, Y)\n",
    "yfit = [a + b * xi for xi in X]\n",
    "plt.plot(X, yfit)"
   ]
  },
  {
   "cell_type": "markdown",
   "metadata": {},
   "source": [
    "As we can clearly see, Regularity has positively affected the scores of the students. They are both related with lineraly with this equation y = 68.09 + 0.03x\n",
    "\n",
    "In short, it shows that the more the student have got into the course on Moodle, the higher score that person got."
   ]
  },
  {
   "cell_type": "markdown",
   "metadata": {},
   "source": [
    "### Logs from the Learning Management System activities Correlations with online Final scores"
   ]
  },
  {
   "cell_type": "markdown",
   "metadata": {},
   "source": [
    "For that matter we need to make a correlation map between activities and Scores to be able to assess this relationships"
   ]
  },
  {
   "cell_type": "code",
   "execution_count": 111,
   "metadata": {},
   "outputs": [
    {
     "data": {
      "image/png": "[encoded data removed]",
      "text/plain": [
       "<Figure size 720x576 with 2 Axes>"
      ]
     },
     "metadata": {
      "needs_background": "light"
     },
     "output_type": "display_data"
    }
   ],
   "source": [
    "survey_AZ = pd.read_excel('survey_dataset_AZ.xlsx', sheetname='Survey_Performance_data')\n",
    "\n",
    "df = survey_AZ[[\"M\",\"N\",\"O\",\"P\",\"AB\"]]\n",
    "\n",
    "f = plt.figure(figsize=(10, 8))\n",
    "plt.matshow(df.corr(), fignum=f.number)\n",
    "plt.xticks(range(df.shape[1]), df.columns, fontsize=14, rotation=45)\n",
    "plt.yticks(range(df.shape[1]), df.columns, fontsize=14)\n",
    "cb = plt.colorbar()\n",
    "cb.ax.tick_params(labelsize=14)\n",
    "plt.title('Correlation Matrix', fontsize=16);"
   ]
  },
  {
   "cell_type": "markdown",
   "metadata": {},
   "source": [
    "As indicated in the correlation matrix, the online activities named after the column letters in the dataset [M, N, O, P] has no indication on the overall score [AB] that the students got. The survey results can not set a certian indiction."
   ]
  },
  {
   "cell_type": "markdown",
   "metadata": {},
   "source": [
    "## Clustering the dataset based on Moodle activities: Adding a Submission, Involved in Discussion, and Using Moodle Forum."
   ]
  },
  {
   "cell_type": "markdown",
   "metadata": {},
   "source": [
    "# Number of submissions activity affecting score"
   ]
  },
  {
   "cell_type": "code",
   "execution_count": 166,
   "metadata": {},
   "outputs": [
    {
     "name": "stderr",
     "output_type": "stream",
     "text": [
      "C:\\Users\\Adel\\Anaconda3\\lib\\site-packages\\ipykernel_launcher.py:5: SettingWithCopyWarning: \n",
      "A value is trying to be set on a copy of a slice from a DataFrame.\n",
      "Try using .loc[row_indexer,col_indexer] = value instead\n",
      "\n",
      "See the caveats in the documentation: http://pandas.pydata.org/pandas-docs/stable/indexing.html#indexing-view-versus-copy\n",
      "  \"\"\"\n"
     ]
    }
   ],
   "source": [
    "# adding a submission\n",
    "submission = moodle[moodle['Event name'] == 'Add Submission']\n",
    "\n",
    "# how many times did each user do a submission\n",
    "submission['count_sub'] = submission.groupby(['ID'])['ID'].transform('count')\n",
    "new_sub = submission.groupby(['ID']).ID.count()\n",
    "submission[['ID','count_sub']].drop_duplicates().sort_values(['ID'],ascending=True)\n",
    "\n",
    "subs_grades = pd.merge(submission,survey,how='inner',on=['ID'])[['ID','Score','count_sub']].drop_duplicates()"
   ]
  },
  {
   "cell_type": "markdown",
   "metadata": {},
   "source": [
    "Now we plot the Scores Vs Number of Submissions to see if there is a relation between both of them on x axis the Number of Submissions and on Y axis the score"
   ]
  },
  {
   "cell_type": "code",
   "execution_count": 169,
   "metadata": {
    "scrolled": false
   },
   "outputs": [
    {
     "name": "stdout",
     "output_type": "stream",
     "text": [
      "best fit line:\n",
      "y = 81.99 + 0.92x\n"
     ]
    },
    {
     "data": {
      "text/plain": [
       "[<matplotlib.lines.Line2D at 0x162abb537b8>]"
      ]
     },
     "execution_count": 169,
     "metadata": {},
     "output_type": "execute_result"
    },
    {
     "data": {
      "image/png": "[encoded data removed]",
      "text/plain": [
       "<Figure size 432x288 with 1 Axes>"
      ]
     },
     "metadata": {
      "needs_background": "light"
     },
     "output_type": "display_data"
    }
   ],
   "source": [
    "X = subs_grades.count_sub\n",
    "Y = subs_grades.Score\n",
    "plt.plot(X, Y, 'o', color='red');\n",
    "\n",
    "def best_fit(X, Y):\n",
    "\n",
    "    xbar = sum(X)/len(X)\n",
    "    ybar = sum(Y)/len(Y)\n",
    "    n = len(X) # or len(Y)\n",
    "\n",
    "    numer = sum([xi*yi for xi,yi in zip(X, Y)]) - n * xbar * ybar\n",
    "    denum = sum([xi**2 for xi in X]) - n * xbar**2\n",
    "\n",
    "    b = numer / denum\n",
    "    a = ybar - b * xbar\n",
    "\n",
    "    print('best fit line:\\ny = {:.2f} + {:.2f}x'.format(a, b))\n",
    "\n",
    "    return a, b\n",
    "\n",
    "# solution\n",
    "a, b = best_fit(X, Y)\n",
    "\n",
    "\n",
    "# plot points and fit line\n",
    "import matplotlib.pyplot as plt\n",
    "plt.scatter(X, Y)\n",
    "yfit = [a + b * xi for xi in X]\n",
    "plt.plot(X, yfit)"
   ]
  },
  {
   "cell_type": "markdown",
   "metadata": {},
   "source": [
    "Yes, there is a linear relationship (y = 81.99 + 0.92x) between Number of submissions Activity and Score. The more the students submit assignments and reports, the more likely they get higher scores."
   ]
  },
  {
   "cell_type": "code",
   "execution_count": 166,
   "metadata": {},
   "outputs": [
    {
     "name": "stderr",
     "output_type": "stream",
     "text": [
      "C:\\Users\\Adel\\Anaconda3\\lib\\site-packages\\ipykernel_launcher.py:5: SettingWithCopyWarning: \n",
      "A value is trying to be set on a copy of a slice from a DataFrame.\n",
      "Try using .loc[row_indexer,col_indexer] = value instead\n",
      "\n",
      "See the caveats in the documentation: http://pandas.pydata.org/pandas-docs/stable/indexing.html#indexing-view-versus-copy\n",
      "  \"\"\"\n"
     ]
    }
   ],
   "source": [
    "# adding a submission\n",
    "submission = moodle[moodle['Event name'] == 'Add Submission']\n",
    "\n",
    "# how many times did each user do a submission\n",
    "submission['count_sub'] = submission.groupby(['ID'])['ID'].transform('count')\n",
    "new_sub = submission.groupby(['ID']).ID.count()\n",
    "submission[['ID','count_sub']].drop_duplicates().sort_values(['ID'],ascending=True)\n",
    "\n",
    "subs_grades = pd.merge(submission,survey,how='inner',on=['ID'])[['ID','Score','count_sub']].drop_duplicates()"
   ]
  },
  {
   "cell_type": "markdown",
   "metadata": {},
   "source": [
    "Now we plot the Scores Vs Number of Submissions to see if there is a relation between both of them on x axis the Number of Submissions and on Y axis the score"
   ]
  },
  {
   "cell_type": "markdown",
   "metadata": {},
   "source": [
    "# Being Involved in Discussion activity affecting score"
   ]
  },
  {
   "cell_type": "code",
   "execution_count": 170,
   "metadata": {},
   "outputs": [
    {
     "name": "stderr",
     "output_type": "stream",
     "text": [
      "C:\\Users\\Adel\\Anaconda3\\lib\\site-packages\\ipykernel_launcher.py:5: SettingWithCopyWarning: \n",
      "A value is trying to be set on a copy of a slice from a DataFrame.\n",
      "Try using .loc[row_indexer,col_indexer] = value instead\n",
      "\n",
      "See the caveats in the documentation: http://pandas.pydata.org/pandas-docs/stable/indexing.html#indexing-view-versus-copy\n",
      "  \"\"\"\n"
     ]
    }
   ],
   "source": [
    "# adding a submission\n",
    "discussion = moodle[moodle['Event name'] == 'Discussion viewed']\n",
    "\n",
    "# how many times did each user do a submission\n",
    "discussion['count_dis'] = discussion.groupby(['ID'])['ID'].transform('count')\n",
    "new_dis = discussion.groupby(['ID']).ID.count()\n",
    "discussion[['ID','count_dis']].drop_duplicates().sort_values(['ID'],ascending=True)\n",
    "\n",
    "dis_grades = pd.merge(discussion,survey,how='inner',on=['ID'])[['ID','Score','count_dis']].drop_duplicates()"
   ]
  },
  {
   "cell_type": "markdown",
   "metadata": {},
   "source": [
    "Now we plot the Scores Vs Number of discussion participations per student to see if there is a relation between both of them on x axis the Number of discussion participations and on Y axis the score"
   ]
  },
  {
   "cell_type": "code",
   "execution_count": 171,
   "metadata": {
    "scrolled": true
   },
   "outputs": [
    {
     "name": "stdout",
     "output_type": "stream",
     "text": [
      "best fit line:\n",
      "y = 73.77 + 0.12x\n"
     ]
    },
    {
     "data": {
      "text/plain": [
       "[<matplotlib.lines.Line2D at 0x162abc2f630>]"
      ]
     },
     "execution_count": 171,
     "metadata": {},
     "output_type": "execute_result"
    },
    {
     "data": {
      "image/png": "[encoded data removed]",
      "text/plain": [
       "<Figure size 432x288 with 1 Axes>"
      ]
     },
     "metadata": {
      "needs_background": "light"
     },
     "output_type": "display_data"
    }
   ],
   "source": [
    "X = dis_grades.count_dis\n",
    "Y = dis_grades.Score\n",
    "plt.plot(X, Y, 'o', color='black');\n",
    "\n",
    "def best_fit(X, Y):\n",
    "\n",
    "    xbar = sum(X)/len(X)\n",
    "    ybar = sum(Y)/len(Y)\n",
    "    n = len(X) # or len(Y)\n",
    "\n",
    "    numer = sum([xi*yi for xi,yi in zip(X, Y)]) - n * xbar * ybar\n",
    "    denum = sum([xi**2 for xi in X]) - n * xbar**2\n",
    "\n",
    "    b = numer / denum\n",
    "    a = ybar - b * xbar\n",
    "\n",
    "    print('best fit line:\\ny = {:.2f} + {:.2f}x'.format(a, b))\n",
    "\n",
    "    return a, b\n",
    "\n",
    "# solution\n",
    "a, b = best_fit(X, Y)\n",
    "\n",
    "\n",
    "# plot points and fit line\n",
    "import matplotlib.pyplot as plt\n",
    "plt.scatter(X, Y)\n",
    "yfit = [a + b * xi for xi in X]\n",
    "plt.plot(X, yfit)"
   ]
  },
  {
   "cell_type": "markdown",
   "metadata": {},
   "source": [
    "Yes, there is a strong linear relationship (y = 73.77 + 0.12x) between Number of discussion participation Activity and Score. The more the students participate in discussion, the more likely they get higher scores."
   ]
  },
  {
   "cell_type": "markdown",
   "metadata": {},
   "source": [
    "# Forum Engagment activity affecting score"
   ]
  },
  {
   "cell_type": "code",
   "execution_count": 173,
   "metadata": {},
   "outputs": [
    {
     "name": "stderr",
     "output_type": "stream",
     "text": [
      "C:\\Users\\Adel\\Anaconda3\\lib\\site-packages\\ipykernel_launcher.py:5: SettingWithCopyWarning: \n",
      "A value is trying to be set on a copy of a slice from a DataFrame.\n",
      "Try using .loc[row_indexer,col_indexer] = value instead\n",
      "\n",
      "See the caveats in the documentation: http://pandas.pydata.org/pandas-docs/stable/indexing.html#indexing-view-versus-copy\n",
      "  \"\"\"\n"
     ]
    }
   ],
   "source": [
    "# adding a submission\n",
    "forum = moodle[moodle['Component'] == 'Forum']\n",
    "\n",
    "# how many times did each user do a submission\n",
    "forum['count_forum'] = forum.groupby(['ID'])['ID'].transform('count')\n",
    "new_forum = forum.groupby(['ID']).ID.count()\n",
    "forum[['ID','count_forum']].drop_duplicates().sort_values(['ID'],ascending=True)\n",
    "\n",
    "forum_grades = pd.merge(forum,survey,how='inner',on=['ID'])[['ID','Score','count_forum']].drop_duplicates()"
   ]
  },
  {
   "cell_type": "markdown",
   "metadata": {},
   "source": [
    "Now we plot the Scores Vs Number of Forum Engagment times per student to see if there is a relation between both of them on x axis the Number of Forum Engagment times per student and on Y axis the score"
   ]
  },
  {
   "cell_type": "code",
   "execution_count": 175,
   "metadata": {},
   "outputs": [
    {
     "name": "stdout",
     "output_type": "stream",
     "text": [
      "best fit line:\n",
      "y = 72.14 + 0.05x\n"
     ]
    },
    {
     "data": {
      "text/plain": [
       "[<matplotlib.lines.Line2D at 0x162ab434780>]"
      ]
     },
     "execution_count": 175,
     "metadata": {},
     "output_type": "execute_result"
    },
    {
     "data": {
      "image/png": "[encoded data removed]",
      "text/plain": [
       "<Figure size 432x288 with 1 Axes>"
      ]
     },
     "metadata": {
      "needs_background": "light"
     },
     "output_type": "display_data"
    }
   ],
   "source": [
    "X = forum_grades.count_forum\n",
    "Y = forum_grades.Score\n",
    "plt.plot(X, Y, 'o', color='yellow');\n",
    "\n",
    "def best_fit(X, Y):\n",
    "\n",
    "    xbar = sum(X)/len(X)\n",
    "    ybar = sum(Y)/len(Y)\n",
    "    n = len(X) # or len(Y)\n",
    "\n",
    "    numer = sum([xi*yi for xi,yi in zip(X, Y)]) - n * xbar * ybar\n",
    "    denum = sum([xi**2 for xi in X]) - n * xbar**2\n",
    "\n",
    "    b = numer / denum\n",
    "    a = ybar - b * xbar\n",
    "\n",
    "    print('best fit line:\\ny = {:.2f} + {:.2f}x'.format(a, b))\n",
    "\n",
    "    return a, b\n",
    "\n",
    "# solution\n",
    "a, b = best_fit(X, Y)\n",
    "\n",
    "\n",
    "# plot points and fit line\n",
    "import matplotlib.pyplot as plt\n",
    "plt.scatter(X, Y)\n",
    "yfit = [a + b * xi for xi in X]\n",
    "plt.plot(X, yfit)"
   ]
  },
  {
   "cell_type": "markdown",
   "metadata": {},
   "source": [
    "Yes, there is a strong linear relationship (y = 72.14 + 0.05x) between Number of Forum Engagment times per student Activity and Score. The more the students engage in forums, the more likely they get higher scores."
   ]
  }
 ],
 "metadata": {
  "kernelspec": {
   "display_name": "Python [conda env:root] *",
   "language": "python",
   "name": "conda-root-py"
  },
  "language_info": {
   "codemirror_mode": {
    "name": "ipython",
    "version": 3
   },
   "file_extension": ".py",
   "mimetype": "text/x-python",
   "name": "python",
   "nbconvert_exporter": "python",
   "pygments_lexer": "ipython3",
   "version": "3.7.1"
  }
 },
 "nbformat": 4,
 "nbformat_minor": 2
}
